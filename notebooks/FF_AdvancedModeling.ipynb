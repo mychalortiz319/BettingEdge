{
 "cells": [
  {
   "cell_type": "markdown",
   "metadata": {},
   "source": [
    "**Advanced Modeling**\n",
    "- "
   ]
  },
  {
   "cell_type": "markdown",
   "metadata": {},
   "source": [
    "Building upon the insights gained from the baseline modeling phase, this notebook focuses on advancing the predictive capabilities of our NFL fantasy points model by leveraging gradient boosting. Gradient boosting models, known for their robustness and ability to capture non-linear relationships, should be well-suited for handling the complexities and variability inherent in player performance data.\n",
    "\n",
    "**Objectives**\n",
    "\n",
    "- Develop advanced models for predicting fantasy points across different positions (e.g., QB, RB, WR, TE)\n",
    "\n",
    "- Implement Gradient Boosting to enhance predictive performance\n",
    "\n",
    "- Evaluate the impact of ensemble methods in capturing the positional nuances identified in the baseline models\n",
    "\n",
    "**Key Advancements Over Baseline Models**\n",
    "\n",
    "- Non-linear Modeling: Unlike linear regression, Gradient Boosting can naturally handle non-linear patterns, which are prevalent in sports performance metrics\n",
    "\n",
    "- Feature Interactions: Ensemble methods inherently capture complex interactions between cumulative metrics, rolling averages, and other features\n",
    "\n",
    "- Position-Specific Insights: Utilizing Gradient Boosting for each position should provide deeper insights into the key predictors for each position"
   ]
  },
  {
   "cell_type": "markdown",
   "metadata": {},
   "source": [
    "----------------------------------------------------------------------------------------------------------------------------------------------------------------------------------------"
   ]
  },
  {
   "cell_type": "markdown",
   "metadata": {},
   "source": [
    "**Gradient Boosting**\n",
    "- \n",
    "\n",
    "Gradient Boosting is a machine learning technique that builds predictive models in an iterative method by combining multiple weak learners to form a strong learner. \"Boosting\" refers to the sequential process of improving the model by minimizing the errors of previous models. Gradient boosting algorithms will be used to model player performance as they excel at working with small to medium datasets by fine-tuning errors iteratively. They also typically outperform linear regression models (such as the baseline model) because gradient boosting captures non-linear relationships between features and the target variable, whereas linear regression assumes a strictly linear relationship. Player statistics and fantasy points have complex, sometimes non-linear interactions, potentially making gradient boosting a better fit. Gradient boosting can also model complex relationships between features and outcomes effectively.\n"
   ]
  },
  {
   "cell_type": "code",
   "execution_count": 92,
   "metadata": {},
   "outputs": [],
   "source": [
    "import pandas as pd\n",
    "import numpy as np\n",
    "import matplotlib.pyplot as plt\n",
    "import seaborn as sns\n",
    "from sklearn.ensemble import GradientBoostingRegressor\n",
    "from sklearn.preprocessing import StandardScaler\n",
    "from sklearn.pipeline import Pipeline\n",
    "from sklearn.decomposition import PCA\n",
    "from sklearn.neighbors import KNeighborsClassifier\n",
    "from sklearn.model_selection import GridSearchCV\n",
    "from sklearn.linear_model import Ridge\n",
    "from sklearn.impute import SimpleImputer\n",
    "from sklearn.model_selection import cross_val_score\n",
    "from sklearn.metrics import mean_absolute_error\n",
    "from sklearn.model_selection import train_test_split\n",
    "from sklearn.metrics import mean_squared_error, accuracy_score, r2_score"
   ]
  },
  {
   "cell_type": "markdown",
   "metadata": {},
   "source": [
    "Importing Libraries/Packages"
   ]
  },
  {
   "cell_type": "code",
   "execution_count": 32,
   "metadata": {},
   "outputs": [],
   "source": [
    "dfAll = pd.read_csv(\"/Users/mychalortiz/Downloads/Brainstation/FantasyForecasts/notebooks/ModelingDataframes/dfAll.csv\")\n",
    "qbsM = pd.read_csv(\"/Users/mychalortiz/Downloads/Brainstation/FantasyForecasts/notebooks/ModelingDataframes/qbsM.csv\")\n",
    "rbsM = pd.read_csv(\"/Users/mychalortiz/Downloads/Brainstation/FantasyForecasts/notebooks/ModelingDataframes/rbsM.csv\")\n",
    "wrsM = pd.read_csv(\"/Users/mychalortiz/Downloads/Brainstation/FantasyForecasts/notebooks/ModelingDataframes/wrsM.csv\")\n",
    "tesM = pd.read_csv(\"/Users/mychalortiz/Downloads/Brainstation/FantasyForecasts/notebooks/ModelingDataframes/tesM.csv\")"
   ]
  },
  {
   "cell_type": "markdown",
   "metadata": {},
   "source": [
    "Importing DataFrames"
   ]
  },
  {
   "cell_type": "code",
   "execution_count": 33,
   "metadata": {},
   "outputs": [
    {
     "data": {
      "text/html": [
       "<div>\n",
       "<style scoped>\n",
       "    .dataframe tbody tr th:only-of-type {\n",
       "        vertical-align: middle;\n",
       "    }\n",
       "\n",
       "    .dataframe tbody tr th {\n",
       "        vertical-align: top;\n",
       "    }\n",
       "\n",
       "    .dataframe thead th {\n",
       "        text-align: right;\n",
       "    }\n",
       "</style>\n",
       "<table border=\"1\" class=\"dataframe\">\n",
       "  <thead>\n",
       "    <tr style=\"text-align: right;\">\n",
       "      <th></th>\n",
       "      <th>Unnamed: 0</th>\n",
       "      <th>PLAYER NAME</th>\n",
       "      <th>PLAYER TEAM</th>\n",
       "      <th>PLAYER POSITION</th>\n",
       "      <th>STATUS</th>\n",
       "      <th>TOTAL</th>\n",
       "      <th>Opponent</th>\n",
       "      <th>Location</th>\n",
       "      <th>rank</th>\n",
       "      <th>DATE</th>\n",
       "      <th>...</th>\n",
       "      <th>season_rushing_td</th>\n",
       "      <th>season_total_avg</th>\n",
       "      <th>season_passing_yds_avg</th>\n",
       "      <th>season_passing_td_avg</th>\n",
       "      <th>season_receiving_rec_avg</th>\n",
       "      <th>season_receiving_yds_avg</th>\n",
       "      <th>season_receiving_td_avg</th>\n",
       "      <th>season_rushing_car_avg</th>\n",
       "      <th>season_rushing_yds_avg</th>\n",
       "      <th>season_fantasy_points_avg</th>\n",
       "    </tr>\n",
       "  </thead>\n",
       "  <tbody>\n",
       "    <tr>\n",
       "      <th>0</th>\n",
       "      <td>335</td>\n",
       "      <td>AJ McCarron</td>\n",
       "      <td>Cin</td>\n",
       "      <td>QB</td>\n",
       "      <td>W 31-14</td>\n",
       "      <td>0.80</td>\n",
       "      <td>Cle</td>\n",
       "      <td>Home</td>\n",
       "      <td>34.0</td>\n",
       "      <td>01-09-24</td>\n",
       "      <td>...</td>\n",
       "      <td>0.0</td>\n",
       "      <td>0.80</td>\n",
       "      <td>20.0</td>\n",
       "      <td>0.0</td>\n",
       "      <td>0.0</td>\n",
       "      <td>0.0</td>\n",
       "      <td>0.0</td>\n",
       "      <td>0.0</td>\n",
       "      <td>0.0</td>\n",
       "      <td>0.80</td>\n",
       "    </tr>\n",
       "    <tr>\n",
       "      <th>1</th>\n",
       "      <td>300</td>\n",
       "      <td>AJ McCarron</td>\n",
       "      <td>Cin</td>\n",
       "      <td>QB</td>\n",
       "      <td>W 34-14</td>\n",
       "      <td>-0.04</td>\n",
       "      <td>Ind</td>\n",
       "      <td>Home</td>\n",
       "      <td>38.0</td>\n",
       "      <td>12-12-23</td>\n",
       "      <td>...</td>\n",
       "      <td>0.0</td>\n",
       "      <td>0.38</td>\n",
       "      <td>9.5</td>\n",
       "      <td>0.0</td>\n",
       "      <td>0.0</td>\n",
       "      <td>0.0</td>\n",
       "      <td>0.0</td>\n",
       "      <td>0.0</td>\n",
       "      <td>0.0</td>\n",
       "      <td>0.38</td>\n",
       "    </tr>\n",
       "    <tr>\n",
       "      <th>2</th>\n",
       "      <td>75</td>\n",
       "      <td>Aaron Rodgers</td>\n",
       "      <td>NYJ</td>\n",
       "      <td>QB</td>\n",
       "      <td>W 22-16</td>\n",
       "      <td>0.00</td>\n",
       "      <td>Buf</td>\n",
       "      <td>Home</td>\n",
       "      <td>36.0</td>\n",
       "      <td>09-12-23</td>\n",
       "      <td>...</td>\n",
       "      <td>0.0</td>\n",
       "      <td>0.00</td>\n",
       "      <td>0.0</td>\n",
       "      <td>0.0</td>\n",
       "      <td>0.0</td>\n",
       "      <td>0.0</td>\n",
       "      <td>0.0</td>\n",
       "      <td>0.0</td>\n",
       "      <td>0.0</td>\n",
       "      <td>0.00</td>\n",
       "    </tr>\n",
       "    <tr>\n",
       "      <th>3</th>\n",
       "      <td>468</td>\n",
       "      <td>Aidan O'Connell</td>\n",
       "      <td>LV</td>\n",
       "      <td>QB</td>\n",
       "      <td>L 20-23</td>\n",
       "      <td>20.26</td>\n",
       "      <td>Ind</td>\n",
       "      <td>Away</td>\n",
       "      <td>9.0</td>\n",
       "      <td>01-02-24</td>\n",
       "      <td>...</td>\n",
       "      <td>0.0</td>\n",
       "      <td>20.26</td>\n",
       "      <td>299.0</td>\n",
       "      <td>2.0</td>\n",
       "      <td>0.0</td>\n",
       "      <td>0.0</td>\n",
       "      <td>0.0</td>\n",
       "      <td>2.0</td>\n",
       "      <td>3.0</td>\n",
       "      <td>20.26</td>\n",
       "    </tr>\n",
       "    <tr>\n",
       "      <th>4</th>\n",
       "      <td>312</td>\n",
       "      <td>Aidan O'Connell</td>\n",
       "      <td>LV</td>\n",
       "      <td>QB</td>\n",
       "      <td>W 27-14</td>\n",
       "      <td>17.86</td>\n",
       "      <td>Den</td>\n",
       "      <td>Home</td>\n",
       "      <td>11.0</td>\n",
       "      <td>01-09-24</td>\n",
       "      <td>...</td>\n",
       "      <td>0.0</td>\n",
       "      <td>19.06</td>\n",
       "      <td>271.5</td>\n",
       "      <td>2.0</td>\n",
       "      <td>0.0</td>\n",
       "      <td>0.0</td>\n",
       "      <td>0.0</td>\n",
       "      <td>3.0</td>\n",
       "      <td>2.0</td>\n",
       "      <td>19.06</td>\n",
       "    </tr>\n",
       "  </tbody>\n",
       "</table>\n",
       "<p>5 rows × 44 columns</p>\n",
       "</div>"
      ],
      "text/plain": [
       "   Unnamed: 0      PLAYER NAME PLAYER TEAM PLAYER POSITION   STATUS  TOTAL  \\\n",
       "0         335      AJ McCarron         Cin              QB  W 31-14   0.80   \n",
       "1         300      AJ McCarron         Cin              QB  W 34-14  -0.04   \n",
       "2          75    Aaron Rodgers         NYJ              QB  W 22-16   0.00   \n",
       "3         468  Aidan O'Connell          LV              QB  L 20-23  20.26   \n",
       "4         312  Aidan O'Connell          LV              QB  W 27-14  17.86   \n",
       "\n",
       "  Opponent Location  rank      DATE  ...  season_rushing_td  season_total_avg  \\\n",
       "0      Cle     Home  34.0  01-09-24  ...                0.0              0.80   \n",
       "1      Ind     Home  38.0  12-12-23  ...                0.0              0.38   \n",
       "2      Buf     Home  36.0  09-12-23  ...                0.0              0.00   \n",
       "3      Ind     Away   9.0  01-02-24  ...                0.0             20.26   \n",
       "4      Den     Home  11.0  01-09-24  ...                0.0             19.06   \n",
       "\n",
       "   season_passing_yds_avg  season_passing_td_avg  season_receiving_rec_avg  \\\n",
       "0                    20.0                    0.0                       0.0   \n",
       "1                     9.5                    0.0                       0.0   \n",
       "2                     0.0                    0.0                       0.0   \n",
       "3                   299.0                    2.0                       0.0   \n",
       "4                   271.5                    2.0                       0.0   \n",
       "\n",
       "   season_receiving_yds_avg  season_receiving_td_avg  season_rushing_car_avg  \\\n",
       "0                       0.0                      0.0                     0.0   \n",
       "1                       0.0                      0.0                     0.0   \n",
       "2                       0.0                      0.0                     0.0   \n",
       "3                       0.0                      0.0                     2.0   \n",
       "4                       0.0                      0.0                     3.0   \n",
       "\n",
       "   season_rushing_yds_avg  season_fantasy_points_avg  \n",
       "0                     0.0                       0.80  \n",
       "1                     0.0                       0.38  \n",
       "2                     0.0                       0.00  \n",
       "3                     3.0                      20.26  \n",
       "4                     2.0                      19.06  \n",
       "\n",
       "[5 rows x 44 columns]"
      ]
     },
     "execution_count": 33,
     "metadata": {},
     "output_type": "execute_result"
    }
   ],
   "source": [
    "qbsM.head(5)"
   ]
  },
  {
   "cell_type": "markdown",
   "metadata": {},
   "source": [
    "- Ensuring DataFrames have been transfered correctly"
   ]
  },
  {
   "cell_type": "markdown",
   "metadata": {},
   "source": [
    "**Model Pipeline**\n",
    "- "
   ]
  },
  {
   "cell_type": "code",
   "execution_count": 34,
   "metadata": {},
   "outputs": [],
   "source": [
    "estimators = [\n",
    "    ('imputer', SimpleImputer()),  \n",
    "    #handles missing values\n",
    "    ('model', GradientBoostingRegressor()) \n",
    "    #model being used\n",
    "]\n",
    "\n",
    "pipe = Pipeline(estimators)\n",
    "\n",
    "paramGrid = {'model__learning_rate': [0.01, 0.1, 0.2],\n",
    "             'model__n_estimators': [100, 200, 500],\n",
    "             'model__max_depth': [3, 5, 7],\n",
    "             'model__min_samples_split': [2, 5, 10], \n",
    "             'model__min_samples_leaf': [1, 3, 5],    \n",
    "             'model__subsample': [0.8, 1.0],          \n",
    "             'imputer__strategy': ['mean', 'median', 'most_frequent', 'constant']\n",
    "}"
   ]
  },
  {
   "cell_type": "markdown",
   "metadata": {},
   "source": [
    "**Pipeline Architecture**\n",
    "- \n",
    "\n",
    "A pipeline is used to combine multiple processing steps into a single workflow, ensuring consistency and reproducibility while simplifying hyperparameter tuning.\n",
    "\n",
    "**Hyperparameters**\n",
    "- Learning Rate:\n",
    "    - Controls the step size at each iteration while minimizing the loss\n",
    "    - Smaller values allow for a more fine-grained optimization, which reduces the risk of overfitting\n",
    "    - Suitable for the dataset, since predictions involve subtle relationships between variables\n",
    "- Number of Estimators:\n",
    "    - Determines the number of boosting rounds (trees) to build\n",
    "    - A higher number of trees generally improves accuracy but increases the risk of overfitting\n",
    "- Maximum Depth:\n",
    "    - Controls the depth of each tree, limiting its complexity\n",
    "    - Shallow trees help prevent overfitting but may miss complex patterns in player performance\n",
    "    - Deeper trees can capture intricate interactions, which is important in the context of NFL data where player performance depends on various different factors\n",
    "- Minimum Samples Split:\n",
    "    - Specifies the minimum number of samples required to split an internal node\n",
    "    - Larger values prevent the model from learning overly specific splits, which reduces overfitting\n",
    "    - Smaller values allow the model to capture more specific patterns in the data, which might be useful for rare interactions in player performance\n",
    "- Minimum Samples Leaf:\n",
    "    - Specifies the minimum number of samples required to be in a leaf node\n",
    "    - Larger values result in smoother predictions and reduce overfitting by ensuring splits aren't based on small, possibly noisy samples\n",
    "    - Smaller values allow the model to capture more granular patterns, which can be beneficial for capturing outlier performances\n",
    "- Subsample:\n",
    "    - Specifies the fraction of the training data used for each tree\n",
    "    - Helps in reducing overfitting by introducing randomness\n",
    "    - Values like 0.8 and 1.0 ensure trees are trained on sufficient but not identical data\n",
    "- Imputer Strategy\n",
    "    - Specifies the strategy used for imputing values\n",
    "    - Options include mean, median, most frequent, and constant\n",
    "\n",
    "**Estimators**\n",
    "- Imputer:\n",
    "    - Handles missing values in the dataset by replacing them with specified strategies (mean, median, most frequent, and constant)\n",
    "- GradientBoostingRegressor:\n",
    "    - Tradtional gradient boosting\n",
    "\n",
    "**Workflow**\n",
    "- \n",
    "1. The imputer processes the data to handle missing values based on the specified strategy.\n",
    "2. The preprocessed data is passed to the Gradient Boosting Regressor, which learns patterns based on the training data.\n",
    "3. The hyperparameter grid is used with grid search cross validation to identify the best combination of hyperparameters."
   ]
  },
  {
   "cell_type": "markdown",
   "metadata": {},
   "source": [
    "**Quarterback Gradient Boosting Model**\n",
    "-"
   ]
  },
  {
   "cell_type": "markdown",
   "metadata": {},
   "source": [
    "Building a gradient boosting model to predict fantasy points for quarterbacks. The first iteration will be built manually, and the second iteration will use 5-fold grid search cross validation in order to optimize hyperparameters."
   ]
  },
  {
   "cell_type": "code",
   "execution_count": 35,
   "metadata": {},
   "outputs": [
    {
     "data": {
      "text/html": [
       "<div>\n",
       "<style scoped>\n",
       "    .dataframe tbody tr th:only-of-type {\n",
       "        vertical-align: middle;\n",
       "    }\n",
       "\n",
       "    .dataframe tbody tr th {\n",
       "        vertical-align: top;\n",
       "    }\n",
       "\n",
       "    .dataframe thead th {\n",
       "        text-align: right;\n",
       "    }\n",
       "</style>\n",
       "<table border=\"1\" class=\"dataframe\">\n",
       "  <thead>\n",
       "    <tr style=\"text-align: right;\">\n",
       "      <th></th>\n",
       "      <th>rank</th>\n",
       "      <th>Week</th>\n",
       "      <th>did_not_play</th>\n",
       "      <th>Name_Encoded</th>\n",
       "      <th>Team_Encoded</th>\n",
       "      <th>Opponent_Encoded</th>\n",
       "      <th>Home/Away_Encoded</th>\n",
       "      <th>total_5_game_avg</th>\n",
       "      <th>passing_yds_5_game_avg</th>\n",
       "      <th>passing_td_5_game_avg</th>\n",
       "      <th>...</th>\n",
       "      <th>season_rushing_td</th>\n",
       "      <th>season_total_avg</th>\n",
       "      <th>season_passing_yds_avg</th>\n",
       "      <th>season_passing_td_avg</th>\n",
       "      <th>season_receiving_rec_avg</th>\n",
       "      <th>season_receiving_yds_avg</th>\n",
       "      <th>season_receiving_td_avg</th>\n",
       "      <th>season_rushing_car_avg</th>\n",
       "      <th>season_rushing_yds_avg</th>\n",
       "      <th>season_fantasy_points_avg</th>\n",
       "    </tr>\n",
       "  </thead>\n",
       "  <tbody>\n",
       "    <tr>\n",
       "      <th>0</th>\n",
       "      <td>34.0</td>\n",
       "      <td>18</td>\n",
       "      <td>0</td>\n",
       "      <td>0</td>\n",
       "      <td>6</td>\n",
       "      <td>7</td>\n",
       "      <td>1</td>\n",
       "      <td>0.80</td>\n",
       "      <td>20.0</td>\n",
       "      <td>0.0</td>\n",
       "      <td>...</td>\n",
       "      <td>0.0</td>\n",
       "      <td>0.80</td>\n",
       "      <td>20.0</td>\n",
       "      <td>0.0</td>\n",
       "      <td>0.0</td>\n",
       "      <td>0.0</td>\n",
       "      <td>0.0</td>\n",
       "      <td>0.0</td>\n",
       "      <td>0.0</td>\n",
       "      <td>0.80</td>\n",
       "    </tr>\n",
       "    <tr>\n",
       "      <th>1</th>\n",
       "      <td>38.0</td>\n",
       "      <td>14</td>\n",
       "      <td>0</td>\n",
       "      <td>0</td>\n",
       "      <td>6</td>\n",
       "      <td>13</td>\n",
       "      <td>1</td>\n",
       "      <td>0.38</td>\n",
       "      <td>9.5</td>\n",
       "      <td>0.0</td>\n",
       "      <td>...</td>\n",
       "      <td>0.0</td>\n",
       "      <td>0.38</td>\n",
       "      <td>9.5</td>\n",
       "      <td>0.0</td>\n",
       "      <td>0.0</td>\n",
       "      <td>0.0</td>\n",
       "      <td>0.0</td>\n",
       "      <td>0.0</td>\n",
       "      <td>0.0</td>\n",
       "      <td>0.38</td>\n",
       "    </tr>\n",
       "    <tr>\n",
       "      <th>2</th>\n",
       "      <td>36.0</td>\n",
       "      <td>1</td>\n",
       "      <td>0</td>\n",
       "      <td>1</td>\n",
       "      <td>24</td>\n",
       "      <td>3</td>\n",
       "      <td>1</td>\n",
       "      <td>0.00</td>\n",
       "      <td>0.0</td>\n",
       "      <td>0.0</td>\n",
       "      <td>...</td>\n",
       "      <td>0.0</td>\n",
       "      <td>0.00</td>\n",
       "      <td>0.0</td>\n",
       "      <td>0.0</td>\n",
       "      <td>0.0</td>\n",
       "      <td>0.0</td>\n",
       "      <td>0.0</td>\n",
       "      <td>0.0</td>\n",
       "      <td>0.0</td>\n",
       "      <td>0.00</td>\n",
       "    </tr>\n",
       "    <tr>\n",
       "      <th>3</th>\n",
       "      <td>9.0</td>\n",
       "      <td>17</td>\n",
       "      <td>0</td>\n",
       "      <td>2</td>\n",
       "      <td>18</td>\n",
       "      <td>13</td>\n",
       "      <td>0</td>\n",
       "      <td>20.26</td>\n",
       "      <td>299.0</td>\n",
       "      <td>2.0</td>\n",
       "      <td>...</td>\n",
       "      <td>0.0</td>\n",
       "      <td>20.26</td>\n",
       "      <td>299.0</td>\n",
       "      <td>2.0</td>\n",
       "      <td>0.0</td>\n",
       "      <td>0.0</td>\n",
       "      <td>0.0</td>\n",
       "      <td>2.0</td>\n",
       "      <td>3.0</td>\n",
       "      <td>20.26</td>\n",
       "    </tr>\n",
       "    <tr>\n",
       "      <th>4</th>\n",
       "      <td>11.0</td>\n",
       "      <td>18</td>\n",
       "      <td>0</td>\n",
       "      <td>2</td>\n",
       "      <td>18</td>\n",
       "      <td>9</td>\n",
       "      <td>1</td>\n",
       "      <td>19.06</td>\n",
       "      <td>271.5</td>\n",
       "      <td>2.0</td>\n",
       "      <td>...</td>\n",
       "      <td>0.0</td>\n",
       "      <td>19.06</td>\n",
       "      <td>271.5</td>\n",
       "      <td>2.0</td>\n",
       "      <td>0.0</td>\n",
       "      <td>0.0</td>\n",
       "      <td>0.0</td>\n",
       "      <td>3.0</td>\n",
       "      <td>2.0</td>\n",
       "      <td>19.06</td>\n",
       "    </tr>\n",
       "  </tbody>\n",
       "</table>\n",
       "<p>5 rows × 34 columns</p>\n",
       "</div>"
      ],
      "text/plain": [
       "   rank  Week  did_not_play  Name_Encoded  Team_Encoded  Opponent_Encoded  \\\n",
       "0  34.0    18             0             0             6                 7   \n",
       "1  38.0    14             0             0             6                13   \n",
       "2  36.0     1             0             1            24                 3   \n",
       "3   9.0    17             0             2            18                13   \n",
       "4  11.0    18             0             2            18                 9   \n",
       "\n",
       "   Home/Away_Encoded  total_5_game_avg  passing_yds_5_game_avg  \\\n",
       "0                  1              0.80                    20.0   \n",
       "1                  1              0.38                     9.5   \n",
       "2                  1              0.00                     0.0   \n",
       "3                  0             20.26                   299.0   \n",
       "4                  1             19.06                   271.5   \n",
       "\n",
       "   passing_td_5_game_avg  ...  season_rushing_td  season_total_avg  \\\n",
       "0                    0.0  ...                0.0              0.80   \n",
       "1                    0.0  ...                0.0              0.38   \n",
       "2                    0.0  ...                0.0              0.00   \n",
       "3                    2.0  ...                0.0             20.26   \n",
       "4                    2.0  ...                0.0             19.06   \n",
       "\n",
       "   season_passing_yds_avg  season_passing_td_avg  season_receiving_rec_avg  \\\n",
       "0                    20.0                    0.0                       0.0   \n",
       "1                     9.5                    0.0                       0.0   \n",
       "2                     0.0                    0.0                       0.0   \n",
       "3                   299.0                    2.0                       0.0   \n",
       "4                   271.5                    2.0                       0.0   \n",
       "\n",
       "   season_receiving_yds_avg  season_receiving_td_avg  season_rushing_car_avg  \\\n",
       "0                       0.0                      0.0                     0.0   \n",
       "1                       0.0                      0.0                     0.0   \n",
       "2                       0.0                      0.0                     0.0   \n",
       "3                       0.0                      0.0                     2.0   \n",
       "4                       0.0                      0.0                     3.0   \n",
       "\n",
       "   season_rushing_yds_avg  season_fantasy_points_avg  \n",
       "0                     0.0                       0.80  \n",
       "1                     0.0                       0.38  \n",
       "2                     0.0                       0.00  \n",
       "3                     3.0                      20.26  \n",
       "4                     2.0                      19.06  \n",
       "\n",
       "[5 rows x 34 columns]"
      ]
     },
     "execution_count": 35,
     "metadata": {},
     "output_type": "execute_result"
    }
   ],
   "source": [
    "Xqb = qbsM.select_dtypes(include = 'number').drop(columns=['TOTAL', 'Unnamed: 0'])\n",
    "\n",
    "yqb = qbsM['TOTAL']\n",
    "#assigning X and y\n",
    "\n",
    "Xqb.head(5)"
   ]
  },
  {
   "cell_type": "markdown",
   "metadata": {},
   "source": [
    "- Assigning independent and dependent variables"
   ]
  },
  {
   "cell_type": "code",
   "execution_count": 36,
   "metadata": {},
   "outputs": [],
   "source": [
    "X_trainQB, X_testQB, y_trainQB, y_testQB = train_test_split(Xqb, yqb, test_size= .80, random_state = 14)"
   ]
  },
  {
   "cell_type": "markdown",
   "metadata": {},
   "source": [
    "- Splitting up the data and allocating 80% of it to train the model"
   ]
  },
  {
   "cell_type": "markdown",
   "metadata": {},
   "source": [
    "***1st Iteration (not using hyperparameter tuning or grid search cross validation)***"
   ]
  },
  {
   "cell_type": "code",
   "execution_count": 57,
   "metadata": {},
   "outputs": [
    {
     "name": "stdout",
     "output_type": "stream",
     "text": [
      "Mean Absolute Error: 1.8115647605939482\n",
      "R-squared: 0.920190963394392\n"
     ]
    }
   ],
   "source": [
    "model = GradientBoostingRegressor(n_estimators=100, learning_rate=0.1, max_depth=3, random_state=42)\n",
    "#initializing the gradient boosting regressor\n",
    "\n",
    "model.fit(X_trainQB, y_trainQB)\n",
    "#fitting the model to the training data\n",
    "\n",
    "y_predQB = model.predict(X_testQB)\n",
    "#getting prediction on the test set\n",
    "\n",
    "mae = mean_absolute_error(y_testQB, y_predQB)\n",
    "r2 = r2_score(y_testQB, y_predQB)\n",
    "print(f\"Mean Absolute Error: {mae}\")\n",
    "print(f\"R-squared: {r2}\")\n",
    "#getting prediction metrics on the test set"
   ]
  },
  {
   "cell_type": "markdown",
   "metadata": {},
   "source": [
    "- Fitting/testing the model manually (without hyperparameter tuning or grid search cross validation)\n",
    "- Parameters\n",
    "    - Number of estimators: 100\n",
    "    - Learning rate: 0.1\n",
    "    - Max Depth: 3\n",
    "- R-Squared\n",
    "    - Good value of 0.92, meaning ~92% of the variance in the data is explained by the model\n",
    "    - Indicates good understanding of the variance, without indicating overfitting\n",
    "- Mean Absolute Error\n",
    "    - Good value of 1.8\n",
    "    - On average, the models predictions are off by ~1.8 points"
   ]
  },
  {
   "cell_type": "markdown",
   "metadata": {},
   "source": [
    "***2nd Iteration (using hyperparameter tuning and grid search cross validation)***"
   ]
  },
  {
   "cell_type": "code",
   "execution_count": 37,
   "metadata": {},
   "outputs": [
    {
     "name": "stdout",
     "output_type": "stream",
     "text": [
      "Best parameters: {'imputer__strategy': 'mean', 'model__learning_rate': 0.01, 'model__max_depth': 3, 'model__min_samples_leaf': 5, 'model__min_samples_split': 2, 'model__n_estimators': 500, 'model__subsample': 0.8}\n",
      "R-squared: 0.9241721510896314\n",
      "Mean Absolute Error (MAE): 1.819497914233167\n"
     ]
    }
   ],
   "source": [
    "grid_search = GridSearchCV(pipe, paramGrid, cv=5, scoring='neg_mean_squared_error')\n",
    "#performing grid search using 5 fold cross validation\n",
    "\n",
    "grid_search.fit(X_trainQB, y_trainQB)\n",
    "#fitting grid search\n",
    "\n",
    "print(\"Best parameters:\", grid_search.best_params_)\n",
    "qbGBR = grid_search.best_estimator_\n",
    "#setting best estimator to 'qbGBR'\n",
    "\n",
    "y_predQB = qbGBR.predict(X_testQB)\n",
    "r2 = r2_score(y_testQB, y_predQB)\n",
    "print(\"R-squared:\", r2)\n",
    "mae = mean_absolute_error(y_testQB, y_predQB)\n",
    "print(\"Mean Absolute Error (MAE):\", mae)\n",
    "#printing best parameters, r-squared, and mean absolute error"
   ]
  },
  {
   "cell_type": "markdown",
   "metadata": {},
   "source": [
    "- Using 5-fold grid search cross validation in order to identify the best combination of hyperparameters for the model\n",
    "- Best parameters:\n",
    "'imputer__strategy': 'mean', 'model__learning_rate': 0.01, 'model__max_depth': 3, 'model__min_samples_leaf': 5, 'model__min_samples_split': 2, 'model__n_estimators': 500, 'model__subsample': 0.8\n",
    "- R-squared\n",
    "    - Essentially the same value received prior to using grid search cross validation\n",
    "    - The r-squared value was 0.9241, meaning 92.41% of the variance in the data is explained by the model\n",
    "    - This value is high enough that it indicates the model has a good understanding of the variance within the data, and does not indicate overfitting\n",
    "- Mean squared error\n",
    "    - Much better MAE in comparison to the previous iteration\n",
    "        - Decrease of ~5 (6.53/1.81)\n",
    "    - On average, the models predictions deviate from the actual values by around 1.82 points"
   ]
  },
  {
   "cell_type": "markdown",
   "metadata": {},
   "source": [
    "**Running Back Gradient Boosting Model**\n",
    "- "
   ]
  },
  {
   "cell_type": "markdown",
   "metadata": {},
   "source": [
    "Building a gradient boosting model to predict fantasy points for running backs. The first iteration will be built manually, and the second iteration will use 5-fold grid search cross validation in order to optimize hyperparameters."
   ]
  },
  {
   "cell_type": "code",
   "execution_count": 21,
   "metadata": {},
   "outputs": [
    {
     "data": {
      "text/html": [
       "<div>\n",
       "<style scoped>\n",
       "    .dataframe tbody tr th:only-of-type {\n",
       "        vertical-align: middle;\n",
       "    }\n",
       "\n",
       "    .dataframe tbody tr th {\n",
       "        vertical-align: top;\n",
       "    }\n",
       "\n",
       "    .dataframe thead th {\n",
       "        text-align: right;\n",
       "    }\n",
       "</style>\n",
       "<table border=\"1\" class=\"dataframe\">\n",
       "  <thead>\n",
       "    <tr style=\"text-align: right;\">\n",
       "      <th></th>\n",
       "      <th>rank</th>\n",
       "      <th>Week</th>\n",
       "      <th>did_not_play</th>\n",
       "      <th>Name_Encoded</th>\n",
       "      <th>Team_Encoded</th>\n",
       "      <th>Opponent_Encoded</th>\n",
       "      <th>Home/Away_Encoded</th>\n",
       "      <th>total_5_game_avg</th>\n",
       "      <th>passing_yds_5_game_avg</th>\n",
       "      <th>passing_td_5_game_avg</th>\n",
       "      <th>...</th>\n",
       "      <th>season_rushing_td</th>\n",
       "      <th>season_total_avg</th>\n",
       "      <th>season_passing_yds_avg</th>\n",
       "      <th>season_passing_td_avg</th>\n",
       "      <th>season_receiving_rec_avg</th>\n",
       "      <th>season_receiving_yds_avg</th>\n",
       "      <th>season_receiving_td_avg</th>\n",
       "      <th>season_rushing_car_avg</th>\n",
       "      <th>season_rushing_yds_avg</th>\n",
       "      <th>season_fantasy_points_avg</th>\n",
       "    </tr>\n",
       "  </thead>\n",
       "  <tbody>\n",
       "    <tr>\n",
       "      <th>0</th>\n",
       "      <td>65.0</td>\n",
       "      <td>17</td>\n",
       "      <td>0</td>\n",
       "      <td>0</td>\n",
       "      <td>11</td>\n",
       "      <td>20</td>\n",
       "      <td>0</td>\n",
       "      <td>2.700</td>\n",
       "      <td>0.0</td>\n",
       "      <td>0.0</td>\n",
       "      <td>...</td>\n",
       "      <td>0.0</td>\n",
       "      <td>2.700</td>\n",
       "      <td>0.0</td>\n",
       "      <td>0.0</td>\n",
       "      <td>0.00</td>\n",
       "      <td>0.000000</td>\n",
       "      <td>0.0</td>\n",
       "      <td>7.000000</td>\n",
       "      <td>27.000000</td>\n",
       "      <td>2.700</td>\n",
       "    </tr>\n",
       "    <tr>\n",
       "      <th>1</th>\n",
       "      <td>42.0</td>\n",
       "      <td>1</td>\n",
       "      <td>0</td>\n",
       "      <td>0</td>\n",
       "      <td>11</td>\n",
       "      <td>5</td>\n",
       "      <td>0</td>\n",
       "      <td>4.150</td>\n",
       "      <td>0.0</td>\n",
       "      <td>0.0</td>\n",
       "      <td>...</td>\n",
       "      <td>0.0</td>\n",
       "      <td>4.150</td>\n",
       "      <td>0.0</td>\n",
       "      <td>0.0</td>\n",
       "      <td>1.00</td>\n",
       "      <td>8.500000</td>\n",
       "      <td>0.0</td>\n",
       "      <td>10.000000</td>\n",
       "      <td>23.000000</td>\n",
       "      <td>4.150</td>\n",
       "    </tr>\n",
       "    <tr>\n",
       "      <th>2</th>\n",
       "      <td>33.0</td>\n",
       "      <td>2</td>\n",
       "      <td>0</td>\n",
       "      <td>0</td>\n",
       "      <td>11</td>\n",
       "      <td>1</td>\n",
       "      <td>0</td>\n",
       "      <td>5.200</td>\n",
       "      <td>0.0</td>\n",
       "      <td>0.0</td>\n",
       "      <td>...</td>\n",
       "      <td>0.0</td>\n",
       "      <td>5.200</td>\n",
       "      <td>0.0</td>\n",
       "      <td>0.0</td>\n",
       "      <td>1.00</td>\n",
       "      <td>8.333333</td>\n",
       "      <td>0.0</td>\n",
       "      <td>11.666667</td>\n",
       "      <td>33.666667</td>\n",
       "      <td>5.200</td>\n",
       "    </tr>\n",
       "    <tr>\n",
       "      <th>3</th>\n",
       "      <td>58.0</td>\n",
       "      <td>3</td>\n",
       "      <td>0</td>\n",
       "      <td>0</td>\n",
       "      <td>11</td>\n",
       "      <td>22</td>\n",
       "      <td>1</td>\n",
       "      <td>4.725</td>\n",
       "      <td>0.0</td>\n",
       "      <td>0.0</td>\n",
       "      <td>...</td>\n",
       "      <td>0.0</td>\n",
       "      <td>4.725</td>\n",
       "      <td>0.0</td>\n",
       "      <td>0.0</td>\n",
       "      <td>0.75</td>\n",
       "      <td>6.250000</td>\n",
       "      <td>0.0</td>\n",
       "      <td>11.500000</td>\n",
       "      <td>33.500000</td>\n",
       "      <td>4.725</td>\n",
       "    </tr>\n",
       "    <tr>\n",
       "      <th>4</th>\n",
       "      <td>73.0</td>\n",
       "      <td>4</td>\n",
       "      <td>0</td>\n",
       "      <td>0</td>\n",
       "      <td>11</td>\n",
       "      <td>10</td>\n",
       "      <td>1</td>\n",
       "      <td>4.000</td>\n",
       "      <td>0.0</td>\n",
       "      <td>0.0</td>\n",
       "      <td>...</td>\n",
       "      <td>0.0</td>\n",
       "      <td>4.000</td>\n",
       "      <td>0.0</td>\n",
       "      <td>0.0</td>\n",
       "      <td>0.60</td>\n",
       "      <td>5.000000</td>\n",
       "      <td>0.0</td>\n",
       "      <td>10.200000</td>\n",
       "      <td>29.000000</td>\n",
       "      <td>4.000</td>\n",
       "    </tr>\n",
       "  </tbody>\n",
       "</table>\n",
       "<p>5 rows × 34 columns</p>\n",
       "</div>"
      ],
      "text/plain": [
       "   rank  Week  did_not_play  Name_Encoded  Team_Encoded  Opponent_Encoded  \\\n",
       "0  65.0    17             0             0            11                20   \n",
       "1  42.0     1             0             0            11                 5   \n",
       "2  33.0     2             0             0            11                 1   \n",
       "3  58.0     3             0             0            11                22   \n",
       "4  73.0     4             0             0            11                10   \n",
       "\n",
       "   Home/Away_Encoded  total_5_game_avg  passing_yds_5_game_avg  \\\n",
       "0                  0             2.700                     0.0   \n",
       "1                  0             4.150                     0.0   \n",
       "2                  0             5.200                     0.0   \n",
       "3                  1             4.725                     0.0   \n",
       "4                  1             4.000                     0.0   \n",
       "\n",
       "   passing_td_5_game_avg  ...  season_rushing_td  season_total_avg  \\\n",
       "0                    0.0  ...                0.0             2.700   \n",
       "1                    0.0  ...                0.0             4.150   \n",
       "2                    0.0  ...                0.0             5.200   \n",
       "3                    0.0  ...                0.0             4.725   \n",
       "4                    0.0  ...                0.0             4.000   \n",
       "\n",
       "   season_passing_yds_avg  season_passing_td_avg  season_receiving_rec_avg  \\\n",
       "0                     0.0                    0.0                      0.00   \n",
       "1                     0.0                    0.0                      1.00   \n",
       "2                     0.0                    0.0                      1.00   \n",
       "3                     0.0                    0.0                      0.75   \n",
       "4                     0.0                    0.0                      0.60   \n",
       "\n",
       "   season_receiving_yds_avg  season_receiving_td_avg  season_rushing_car_avg  \\\n",
       "0                  0.000000                      0.0                7.000000   \n",
       "1                  8.500000                      0.0               10.000000   \n",
       "2                  8.333333                      0.0               11.666667   \n",
       "3                  6.250000                      0.0               11.500000   \n",
       "4                  5.000000                      0.0               10.200000   \n",
       "\n",
       "   season_rushing_yds_avg  season_fantasy_points_avg  \n",
       "0               27.000000                      2.700  \n",
       "1               23.000000                      4.150  \n",
       "2               33.666667                      5.200  \n",
       "3               33.500000                      4.725  \n",
       "4               29.000000                      4.000  \n",
       "\n",
       "[5 rows x 34 columns]"
      ]
     },
     "execution_count": 21,
     "metadata": {},
     "output_type": "execute_result"
    }
   ],
   "source": [
    "Xrb = rbsM.select_dtypes(include = 'number').drop(columns=['TOTAL', 'Unnamed: 0'])\n",
    "\n",
    "yrb = rbsM['TOTAL']\n",
    "#assigning X and y\n",
    "\n",
    "Xrb.head(5)"
   ]
  },
  {
   "cell_type": "markdown",
   "metadata": {},
   "source": [
    "- Assigning independent and dependent variables"
   ]
  },
  {
   "cell_type": "code",
   "execution_count": 23,
   "metadata": {},
   "outputs": [],
   "source": [
    "X_trainRB, X_testRB, y_trainRB, y_testRB = train_test_split(Xrb, yrb, test_size= .80, random_state = 14)"
   ]
  },
  {
   "cell_type": "markdown",
   "metadata": {},
   "source": [
    "- Splitting up the data and allocating 80% of it to train the model"
   ]
  },
  {
   "cell_type": "markdown",
   "metadata": {},
   "source": [
    "***1st Iteration (not using hyperparameter tuning or grid search cross validation)***"
   ]
  },
  {
   "cell_type": "code",
   "execution_count": 24,
   "metadata": {},
   "outputs": [
    {
     "name": "stdout",
     "output_type": "stream",
     "text": [
      "Mean Squared Error: 2.4492447557926464\n",
      "R-squared: 0.9582130329022086\n"
     ]
    }
   ],
   "source": [
    "model = GradientBoostingRegressor(n_estimators=100, learning_rate=0.1, max_depth=3, random_state=42)\n",
    "#initializing the gradient boosting regressor\n",
    "\n",
    "model.fit(X_trainRB, y_trainRB)\n",
    "#fitting the model to the training data\n",
    "\n",
    "y_predRB = model.predict(X_testRB)\n",
    "#getting prediction on the test set\n",
    "\n",
    "mse = mean_squared_error(y_testRB, y_predRB)\n",
    "r2 = r2_score(y_testRB, y_predRB)\n",
    "print(f\"Mean Squared Error: {mse}\")\n",
    "print(f\"R-squared: {r2}\")\n",
    "#getting prediction metrics on the test set"
   ]
  },
  {
   "cell_type": "markdown",
   "metadata": {},
   "source": [
    "- Fitting/testing the model manually (without hyperparameter tuning or grid search cross validation)\n",
    "- Parameters\n",
    "    - Number of estimators: 100\n",
    "    - Learning rate: 0.1\n",
    "    - Max Depth: 3\n",
    "- R-Squared\n",
    "    - Decent value of 0.96, meaning ~96% of the variance in the data is explained by the model\n",
    "    - This may indicate potential overfitting, however\n",
    "- Mean Absolute Error\n",
    "    - On average, the models predictions are off by ~2.4 points, which is a decent value"
   ]
  },
  {
   "cell_type": "markdown",
   "metadata": {},
   "source": [
    "***2nd Iteration (using hyperparameter tuning and grid search cross validation)***"
   ]
  },
  {
   "cell_type": "code",
   "execution_count": 38,
   "metadata": {},
   "outputs": [
    {
     "name": "stdout",
     "output_type": "stream",
     "text": [
      "Best parameters: {'imputer__strategy': 'most_frequent', 'model__learning_rate': 0.1, 'model__max_depth': 7, 'model__min_samples_leaf': 1, 'model__min_samples_split': 2, 'model__n_estimators': 100, 'model__subsample': 1.0}\n",
      "R-squared: 0.9253561329214266\n",
      "Mean Absolute Error (MAE): 0.9595100507967558\n"
     ]
    }
   ],
   "source": [
    "grid_search = GridSearchCV(pipe, paramGrid, cv=5, scoring='neg_mean_squared_error')\n",
    "#performing grid search using 5 fold cross validation\n",
    "\n",
    "grid_search.fit(X_trainRB, y_trainRB)\n",
    "#fitting grid search\n",
    "\n",
    "print(\"Best parameters:\", grid_search.best_params_)\n",
    "rbGBR = grid_search.best_estimator_\n",
    "#setting best estimator to 'rbGBR'\n",
    "\n",
    "y_predRB = rbGBR.predict(X_testRB)\n",
    "r2 = r2_score(y_testRB, y_predRB)\n",
    "print(\"R-squared:\", r2)\n",
    "mae = mean_absolute_error(y_testRB, y_predRB)\n",
    "print(\"Mean Absolute Error (MAE):\", mae)\n",
    "#printing best parameters, r-squared, and mean absolute error"
   ]
  },
  {
   "cell_type": "markdown",
   "metadata": {},
   "source": [
    "- Using 5-fold grid search cross validation in order to identify the best combination of hyperparameters for the model\n",
    "- Best parameters: 'imputer__strategy': 'most_frequent', 'model__learning_rate': 0.1, 'model__max_depth': 7, 'model__min_samples_leaf': 1, 'model__min_samples_split': 2, 'model__n_estimators': 100, 'model__subsample': 1.0\n",
    "    - Here we see a different combination of parameters (in comparison to the second iteration of the quarterback gradient boosting model) demonstrating the importance of position specific tuning for optimal performance\n",
    "- R-squared\n",
    "    - Essentially the same value received prior to using grid search cross validation\n",
    "    - The r-squared value was 0.93, meaning ~93% of the variance in the data is explained by the model\n",
    "    - This value is high enough that it indicates the model has a good understanding of the variance within the data, and does not indicate overfitting\n",
    "        - Performing the grid search cross validition has mitigated the issue of potential overfitting\n",
    "- Mean squared error\n",
    "    - Much better MAE in comparison to the previous iteration\n",
    "        - Decrease of ~5 (2.4/0.95)\n",
    "    - On average, the models predictions deviate from the actual values by around 0.95 points"
   ]
  },
  {
   "cell_type": "markdown",
   "metadata": {},
   "source": [
    "**Wide Receiver Gradient Boosting Model**\n",
    "- "
   ]
  },
  {
   "cell_type": "markdown",
   "metadata": {},
   "source": [
    "Building a gradient boosting model to predict fantasy points for wide receivers. The first iteration will be built manually, and the second iteration will use 5-fold grid search cross validation in order to optimize hyperparameters."
   ]
  },
  {
   "cell_type": "code",
   "execution_count": 45,
   "metadata": {},
   "outputs": [
    {
     "data": {
      "text/html": [
       "<div>\n",
       "<style scoped>\n",
       "    .dataframe tbody tr th:only-of-type {\n",
       "        vertical-align: middle;\n",
       "    }\n",
       "\n",
       "    .dataframe tbody tr th {\n",
       "        vertical-align: top;\n",
       "    }\n",
       "\n",
       "    .dataframe thead th {\n",
       "        text-align: right;\n",
       "    }\n",
       "</style>\n",
       "<table border=\"1\" class=\"dataframe\">\n",
       "  <thead>\n",
       "    <tr style=\"text-align: right;\">\n",
       "      <th></th>\n",
       "      <th>rank</th>\n",
       "      <th>Week</th>\n",
       "      <th>did_not_play</th>\n",
       "      <th>Name_Encoded</th>\n",
       "      <th>Team_Encoded</th>\n",
       "      <th>Opponent_Encoded</th>\n",
       "      <th>Home/Away_Encoded</th>\n",
       "      <th>total_5_game_avg</th>\n",
       "      <th>passing_yds_5_game_avg</th>\n",
       "      <th>passing_td_5_game_avg</th>\n",
       "      <th>...</th>\n",
       "      <th>season_rushing_td</th>\n",
       "      <th>season_total_avg</th>\n",
       "      <th>season_passing_yds_avg</th>\n",
       "      <th>season_passing_td_avg</th>\n",
       "      <th>season_receiving_rec_avg</th>\n",
       "      <th>season_receiving_yds_avg</th>\n",
       "      <th>season_receiving_td_avg</th>\n",
       "      <th>season_rushing_car_avg</th>\n",
       "      <th>season_rushing_yds_avg</th>\n",
       "      <th>season_fantasy_points_avg</th>\n",
       "    </tr>\n",
       "  </thead>\n",
       "  <tbody>\n",
       "    <tr>\n",
       "      <th>0</th>\n",
       "      <td>45.0</td>\n",
       "      <td>17</td>\n",
       "      <td>0</td>\n",
       "      <td>0</td>\n",
       "      <td>25</td>\n",
       "      <td>0</td>\n",
       "      <td>1</td>\n",
       "      <td>9.300000</td>\n",
       "      <td>0.0</td>\n",
       "      <td>0.0</td>\n",
       "      <td>...</td>\n",
       "      <td>0.0</td>\n",
       "      <td>9.300000</td>\n",
       "      <td>0.0</td>\n",
       "      <td>0.0</td>\n",
       "      <td>4.0</td>\n",
       "      <td>53.0</td>\n",
       "      <td>0.0</td>\n",
       "      <td>0.0</td>\n",
       "      <td>0.0</td>\n",
       "      <td>9.300000</td>\n",
       "    </tr>\n",
       "    <tr>\n",
       "      <th>1</th>\n",
       "      <td>163.0</td>\n",
       "      <td>18</td>\n",
       "      <td>0</td>\n",
       "      <td>0</td>\n",
       "      <td>25</td>\n",
       "      <td>23</td>\n",
       "      <td>0</td>\n",
       "      <td>4.600000</td>\n",
       "      <td>0.0</td>\n",
       "      <td>0.0</td>\n",
       "      <td>...</td>\n",
       "      <td>0.0</td>\n",
       "      <td>4.600000</td>\n",
       "      <td>0.0</td>\n",
       "      <td>0.0</td>\n",
       "      <td>2.5</td>\n",
       "      <td>31.0</td>\n",
       "      <td>0.0</td>\n",
       "      <td>0.0</td>\n",
       "      <td>0.0</td>\n",
       "      <td>4.600000</td>\n",
       "    </tr>\n",
       "    <tr>\n",
       "      <th>2</th>\n",
       "      <td>21.0</td>\n",
       "      <td>1</td>\n",
       "      <td>0</td>\n",
       "      <td>0</td>\n",
       "      <td>25</td>\n",
       "      <td>21</td>\n",
       "      <td>0</td>\n",
       "      <td>8.033333</td>\n",
       "      <td>0.0</td>\n",
       "      <td>0.0</td>\n",
       "      <td>...</td>\n",
       "      <td>0.0</td>\n",
       "      <td>8.033333</td>\n",
       "      <td>0.0</td>\n",
       "      <td>0.0</td>\n",
       "      <td>4.0</td>\n",
       "      <td>47.0</td>\n",
       "      <td>0.0</td>\n",
       "      <td>0.0</td>\n",
       "      <td>0.0</td>\n",
       "      <td>8.033333</td>\n",
       "    </tr>\n",
       "    <tr>\n",
       "      <th>3</th>\n",
       "      <td>69.5</td>\n",
       "      <td>2</td>\n",
       "      <td>0</td>\n",
       "      <td>0</td>\n",
       "      <td>25</td>\n",
       "      <td>20</td>\n",
       "      <td>1</td>\n",
       "      <td>7.750000</td>\n",
       "      <td>0.0</td>\n",
       "      <td>0.0</td>\n",
       "      <td>...</td>\n",
       "      <td>0.0</td>\n",
       "      <td>7.750000</td>\n",
       "      <td>0.0</td>\n",
       "      <td>0.0</td>\n",
       "      <td>4.0</td>\n",
       "      <td>42.5</td>\n",
       "      <td>0.0</td>\n",
       "      <td>0.0</td>\n",
       "      <td>0.0</td>\n",
       "      <td>7.750000</td>\n",
       "    </tr>\n",
       "    <tr>\n",
       "      <th>4</th>\n",
       "      <td>11.0</td>\n",
       "      <td>3</td>\n",
       "      <td>0</td>\n",
       "      <td>0</td>\n",
       "      <td>25</td>\n",
       "      <td>29</td>\n",
       "      <td>0</td>\n",
       "      <td>10.620000</td>\n",
       "      <td>0.0</td>\n",
       "      <td>0.0</td>\n",
       "      <td>...</td>\n",
       "      <td>0.0</td>\n",
       "      <td>10.620000</td>\n",
       "      <td>0.0</td>\n",
       "      <td>0.0</td>\n",
       "      <td>5.0</td>\n",
       "      <td>60.2</td>\n",
       "      <td>0.0</td>\n",
       "      <td>0.0</td>\n",
       "      <td>0.0</td>\n",
       "      <td>10.620000</td>\n",
       "    </tr>\n",
       "  </tbody>\n",
       "</table>\n",
       "<p>5 rows × 34 columns</p>\n",
       "</div>"
      ],
      "text/plain": [
       "    rank  Week  did_not_play  Name_Encoded  Team_Encoded  Opponent_Encoded  \\\n",
       "0   45.0    17             0             0            25                 0   \n",
       "1  163.0    18             0             0            25                23   \n",
       "2   21.0     1             0             0            25                21   \n",
       "3   69.5     2             0             0            25                20   \n",
       "4   11.0     3             0             0            25                29   \n",
       "\n",
       "   Home/Away_Encoded  total_5_game_avg  passing_yds_5_game_avg  \\\n",
       "0                  1          9.300000                     0.0   \n",
       "1                  0          4.600000                     0.0   \n",
       "2                  0          8.033333                     0.0   \n",
       "3                  1          7.750000                     0.0   \n",
       "4                  0         10.620000                     0.0   \n",
       "\n",
       "   passing_td_5_game_avg  ...  season_rushing_td  season_total_avg  \\\n",
       "0                    0.0  ...                0.0          9.300000   \n",
       "1                    0.0  ...                0.0          4.600000   \n",
       "2                    0.0  ...                0.0          8.033333   \n",
       "3                    0.0  ...                0.0          7.750000   \n",
       "4                    0.0  ...                0.0         10.620000   \n",
       "\n",
       "   season_passing_yds_avg  season_passing_td_avg  season_receiving_rec_avg  \\\n",
       "0                     0.0                    0.0                       4.0   \n",
       "1                     0.0                    0.0                       2.5   \n",
       "2                     0.0                    0.0                       4.0   \n",
       "3                     0.0                    0.0                       4.0   \n",
       "4                     0.0                    0.0                       5.0   \n",
       "\n",
       "   season_receiving_yds_avg  season_receiving_td_avg  season_rushing_car_avg  \\\n",
       "0                      53.0                      0.0                     0.0   \n",
       "1                      31.0                      0.0                     0.0   \n",
       "2                      47.0                      0.0                     0.0   \n",
       "3                      42.5                      0.0                     0.0   \n",
       "4                      60.2                      0.0                     0.0   \n",
       "\n",
       "   season_rushing_yds_avg  season_fantasy_points_avg  \n",
       "0                     0.0                   9.300000  \n",
       "1                     0.0                   4.600000  \n",
       "2                     0.0                   8.033333  \n",
       "3                     0.0                   7.750000  \n",
       "4                     0.0                  10.620000  \n",
       "\n",
       "[5 rows x 34 columns]"
      ]
     },
     "execution_count": 45,
     "metadata": {},
     "output_type": "execute_result"
    }
   ],
   "source": [
    "Xwr = wrsM.select_dtypes(include = 'number').drop(columns=['TOTAL', 'Unnamed: 0'])\n",
    "\n",
    "ywr = wrsM['TOTAL']\n",
    "#assigning X and y\n",
    "\n",
    "Xwr.head(5)"
   ]
  },
  {
   "cell_type": "markdown",
   "metadata": {},
   "source": [
    "- Assigning independent and dependent variables"
   ]
  },
  {
   "cell_type": "code",
   "execution_count": 46,
   "metadata": {},
   "outputs": [],
   "source": [
    "X_trainWR, X_testWR, y_trainWR, y_testWR = train_test_split(Xwr, ywr, test_size= .80, random_state = 14)"
   ]
  },
  {
   "cell_type": "markdown",
   "metadata": {},
   "source": [
    "- Splitting up the data and allocating 80% of it to train the model"
   ]
  },
  {
   "cell_type": "markdown",
   "metadata": {},
   "source": [
    "***1st Iteration (not using hyperparameter tuning and grid search cross validation)***"
   ]
  },
  {
   "cell_type": "code",
   "execution_count": 58,
   "metadata": {},
   "outputs": [
    {
     "name": "stdout",
     "output_type": "stream",
     "text": [
      "Mean Squared Error: 1.9845284394475657\n",
      "R-squared: 0.9679491945510705\n"
     ]
    }
   ],
   "source": [
    "model = GradientBoostingRegressor(n_estimators=100, learning_rate=0.1, max_depth=3, random_state=42)\n",
    "#initializing the gradient boosting regressor\n",
    "\n",
    "model.fit(X_trainWR, y_trainWR)\n",
    "#fitting the model to the training data\n",
    "\n",
    "y_predWR = model.predict(X_testWR)\n",
    "#getting prediction on the test set\n",
    "\n",
    "mse = mean_squared_error(y_testWR, y_predWR)\n",
    "r2 = r2_score(y_testWR, y_predWR)\n",
    "print(f\"Mean Squared Error: {mse}\")\n",
    "print(f\"R-squared: {r2}\")\n",
    "#getting prediction metrics on the test set"
   ]
  },
  {
   "cell_type": "markdown",
   "metadata": {},
   "source": [
    "- Fitting/testing the model manually (without hyperparameter tuning or grid search cross validation)\n",
    "- Parameters\n",
    "    - Number of estimators: 100\n",
    "    - Learning rate: 0.1\n",
    "    - Max Depth: 3\n",
    "- R-Squared\n",
    "    - Moderate value 0.97, meaning ~97% of the variance in the data is explained by the model\n",
    "    - While a high percentage of the variance is explained by the model, this may indicate overfitting\n",
    "- Mean Absolute Error\n",
    "    - On average, the models predictions are off by ~1.98 points"
   ]
  },
  {
   "cell_type": "markdown",
   "metadata": {},
   "source": [
    "***2nd Iteration (using hyperparameter tuning and grid search cross validation)***"
   ]
  },
  {
   "cell_type": "code",
   "execution_count": 59,
   "metadata": {},
   "outputs": [
    {
     "name": "stdout",
     "output_type": "stream",
     "text": [
      "Best parameters: {'imputer__strategy': 'most_frequent', 'model__learning_rate': 0.1, 'model__max_depth': 3, 'model__min_samples_leaf': 1, 'model__min_samples_split': 5, 'model__n_estimators': 500, 'model__subsample': 1.0}\n",
      "R-squared: 0.9700842110254662\n",
      "Mean Absolute Error (MAE): 0.6255660445604516\n"
     ]
    }
   ],
   "source": [
    "grid_search = GridSearchCV(pipe, paramGrid, cv=5, scoring='neg_mean_squared_error')\n",
    "#performing grid search using 5 fold cross validation\n",
    "\n",
    "grid_search.fit(X_trainWR, y_trainWR)\n",
    "#fitting grid search\n",
    "\n",
    "print(\"Best parameters:\", grid_search.best_params_)\n",
    "wrGBR = grid_search.best_estimator_\n",
    "#setting best estimator to 'wrGBR'\n",
    "\n",
    "y_predWR = wrGBR.predict(X_testWR)\n",
    "r2 = r2_score(y_testWR, y_predWR)\n",
    "print(\"R-squared:\", r2)\n",
    "mae = mean_absolute_error(y_testWR, y_predWR)\n",
    "print(\"Mean Absolute Error (MAE):\", mae)\n",
    "#printing best parameters, r-squared, and mean absolute error"
   ]
  },
  {
   "cell_type": "markdown",
   "metadata": {},
   "source": [
    "- Using 5-fold grid search cross validation in order to identify the best combination of hyperparameters for the model\n",
    "- Best parameters: 'imputer__strategy': 'constant', 'model__learning_rate': 0.2, 'model__max_depth': 3, 'model__min_samples_leaf': 1, 'model__min_samples_split': 10, 'model__n_estimators': 200, 'model__subsample': 0.8\n",
    "    - Once again we see a different combination of parameters, demonstrating the importance of position specific tuning for optimal performance\n",
    "- R-squared\n",
    "    - Essentially the same value received prior to using grid search cross validation\n",
    "    - The r-squared value was 0.97, meaning ~97% of the variance in the data is explained by the model\n",
    "    - This value is high enough that it could indicate overfitting\n",
    "        - Performing the grid search cross validition does not seem to have mitigated the issue of potential overfitting\n",
    "- Mean squared error\n",
    "    - Much better MAE in comparison to the previous iteration\n",
    "        - Decrease of ~5 (1.9/0.6)\n",
    "    - On average, the models predictions deviate from the actual values by around 0.62 points\n",
    "- Metrics seem to indicate at least some overfitting\n",
    "    - Very high r-sqaured, very low mean absolute error\n",
    "        - The mean absolute error of 0.63 is not realistic due to the variability of real life player performance\n",
    "    - Grid search cross validation did not mitigate this issue as we saw with the previous two models\n",
    "    - The baseline model, ridge regression, may be the better model for the wide receiver position\n",
    "    - This, once again, highlights the importance of modeling positions differently"
   ]
  },
  {
   "cell_type": "markdown",
   "metadata": {},
   "source": [
    "**Tight End Gradient Boosting Model**\n",
    "- "
   ]
  },
  {
   "cell_type": "markdown",
   "metadata": {},
   "source": [
    "Building a gradient boosting model to predict fantasy points for tight ends. The first iteration will be built manually, and the second iteration will use 5-fold grid search cross validation in order to optimize hyperparameters."
   ]
  },
  {
   "cell_type": "code",
   "execution_count": 63,
   "metadata": {},
   "outputs": [
    {
     "data": {
      "text/html": [
       "<div>\n",
       "<style scoped>\n",
       "    .dataframe tbody tr th:only-of-type {\n",
       "        vertical-align: middle;\n",
       "    }\n",
       "\n",
       "    .dataframe tbody tr th {\n",
       "        vertical-align: top;\n",
       "    }\n",
       "\n",
       "    .dataframe thead th {\n",
       "        text-align: right;\n",
       "    }\n",
       "</style>\n",
       "<table border=\"1\" class=\"dataframe\">\n",
       "  <thead>\n",
       "    <tr style=\"text-align: right;\">\n",
       "      <th></th>\n",
       "      <th>rank</th>\n",
       "      <th>Week</th>\n",
       "      <th>did_not_play</th>\n",
       "      <th>Name_Encoded</th>\n",
       "      <th>Team_Encoded</th>\n",
       "      <th>Opponent_Encoded</th>\n",
       "      <th>Home/Away_Encoded</th>\n",
       "      <th>total_5_game_avg</th>\n",
       "      <th>passing_yds_5_game_avg</th>\n",
       "      <th>passing_td_5_game_avg</th>\n",
       "      <th>...</th>\n",
       "      <th>season_rushing_td</th>\n",
       "      <th>season_total_avg</th>\n",
       "      <th>season_passing_yds_avg</th>\n",
       "      <th>season_passing_td_avg</th>\n",
       "      <th>season_receiving_rec_avg</th>\n",
       "      <th>season_receiving_yds_avg</th>\n",
       "      <th>season_receiving_td_avg</th>\n",
       "      <th>season_rushing_car_avg</th>\n",
       "      <th>season_rushing_yds_avg</th>\n",
       "      <th>season_fantasy_points_avg</th>\n",
       "    </tr>\n",
       "  </thead>\n",
       "  <tbody>\n",
       "    <tr>\n",
       "      <th>0</th>\n",
       "      <td>48.5</td>\n",
       "      <td>17</td>\n",
       "      <td>0</td>\n",
       "      <td>0</td>\n",
       "      <td>9</td>\n",
       "      <td>16</td>\n",
       "      <td>1</td>\n",
       "      <td>1.900000</td>\n",
       "      <td>0.0</td>\n",
       "      <td>0.0</td>\n",
       "      <td>...</td>\n",
       "      <td>0.0</td>\n",
       "      <td>1.900000</td>\n",
       "      <td>0.0</td>\n",
       "      <td>0.0</td>\n",
       "      <td>1.000000</td>\n",
       "      <td>9.000000</td>\n",
       "      <td>0.0</td>\n",
       "      <td>0.0</td>\n",
       "      <td>0.0</td>\n",
       "      <td>1.900000</td>\n",
       "    </tr>\n",
       "    <tr>\n",
       "      <th>1</th>\n",
       "      <td>40.0</td>\n",
       "      <td>18</td>\n",
       "      <td>0</td>\n",
       "      <td>0</td>\n",
       "      <td>9</td>\n",
       "      <td>18</td>\n",
       "      <td>0</td>\n",
       "      <td>2.500000</td>\n",
       "      <td>0.0</td>\n",
       "      <td>0.0</td>\n",
       "      <td>...</td>\n",
       "      <td>0.0</td>\n",
       "      <td>2.500000</td>\n",
       "      <td>0.0</td>\n",
       "      <td>0.0</td>\n",
       "      <td>1.000000</td>\n",
       "      <td>15.000000</td>\n",
       "      <td>0.0</td>\n",
       "      <td>0.0</td>\n",
       "      <td>0.0</td>\n",
       "      <td>2.500000</td>\n",
       "    </tr>\n",
       "    <tr>\n",
       "      <th>2</th>\n",
       "      <td>10.0</td>\n",
       "      <td>1</td>\n",
       "      <td>0</td>\n",
       "      <td>0</td>\n",
       "      <td>9</td>\n",
       "      <td>18</td>\n",
       "      <td>1</td>\n",
       "      <td>4.466667</td>\n",
       "      <td>0.0</td>\n",
       "      <td>0.0</td>\n",
       "      <td>...</td>\n",
       "      <td>0.0</td>\n",
       "      <td>4.466667</td>\n",
       "      <td>0.0</td>\n",
       "      <td>0.0</td>\n",
       "      <td>2.333333</td>\n",
       "      <td>21.333333</td>\n",
       "      <td>0.0</td>\n",
       "      <td>0.0</td>\n",
       "      <td>0.0</td>\n",
       "      <td>4.466667</td>\n",
       "    </tr>\n",
       "    <tr>\n",
       "      <th>3</th>\n",
       "      <td>76.0</td>\n",
       "      <td>2</td>\n",
       "      <td>0</td>\n",
       "      <td>0</td>\n",
       "      <td>9</td>\n",
       "      <td>31</td>\n",
       "      <td>1</td>\n",
       "      <td>3.350000</td>\n",
       "      <td>0.0</td>\n",
       "      <td>0.0</td>\n",
       "      <td>...</td>\n",
       "      <td>0.0</td>\n",
       "      <td>3.350000</td>\n",
       "      <td>0.0</td>\n",
       "      <td>0.0</td>\n",
       "      <td>1.750000</td>\n",
       "      <td>16.000000</td>\n",
       "      <td>0.0</td>\n",
       "      <td>0.0</td>\n",
       "      <td>0.0</td>\n",
       "      <td>3.350000</td>\n",
       "    </tr>\n",
       "    <tr>\n",
       "      <th>4</th>\n",
       "      <td>79.0</td>\n",
       "      <td>3</td>\n",
       "      <td>0</td>\n",
       "      <td>0</td>\n",
       "      <td>9</td>\n",
       "      <td>19</td>\n",
       "      <td>0</td>\n",
       "      <td>2.680000</td>\n",
       "      <td>0.0</td>\n",
       "      <td>0.0</td>\n",
       "      <td>...</td>\n",
       "      <td>0.0</td>\n",
       "      <td>2.680000</td>\n",
       "      <td>0.0</td>\n",
       "      <td>0.0</td>\n",
       "      <td>1.400000</td>\n",
       "      <td>12.800000</td>\n",
       "      <td>0.0</td>\n",
       "      <td>0.0</td>\n",
       "      <td>0.0</td>\n",
       "      <td>2.680000</td>\n",
       "    </tr>\n",
       "  </tbody>\n",
       "</table>\n",
       "<p>5 rows × 34 columns</p>\n",
       "</div>"
      ],
      "text/plain": [
       "   rank  Week  did_not_play  Name_Encoded  Team_Encoded  Opponent_Encoded  \\\n",
       "0  48.5    17             0             0             9                16   \n",
       "1  40.0    18             0             0             9                18   \n",
       "2  10.0     1             0             0             9                18   \n",
       "3  76.0     2             0             0             9                31   \n",
       "4  79.0     3             0             0             9                19   \n",
       "\n",
       "   Home/Away_Encoded  total_5_game_avg  passing_yds_5_game_avg  \\\n",
       "0                  1          1.900000                     0.0   \n",
       "1                  0          2.500000                     0.0   \n",
       "2                  1          4.466667                     0.0   \n",
       "3                  1          3.350000                     0.0   \n",
       "4                  0          2.680000                     0.0   \n",
       "\n",
       "   passing_td_5_game_avg  ...  season_rushing_td  season_total_avg  \\\n",
       "0                    0.0  ...                0.0          1.900000   \n",
       "1                    0.0  ...                0.0          2.500000   \n",
       "2                    0.0  ...                0.0          4.466667   \n",
       "3                    0.0  ...                0.0          3.350000   \n",
       "4                    0.0  ...                0.0          2.680000   \n",
       "\n",
       "   season_passing_yds_avg  season_passing_td_avg  season_receiving_rec_avg  \\\n",
       "0                     0.0                    0.0                  1.000000   \n",
       "1                     0.0                    0.0                  1.000000   \n",
       "2                     0.0                    0.0                  2.333333   \n",
       "3                     0.0                    0.0                  1.750000   \n",
       "4                     0.0                    0.0                  1.400000   \n",
       "\n",
       "   season_receiving_yds_avg  season_receiving_td_avg  season_rushing_car_avg  \\\n",
       "0                  9.000000                      0.0                     0.0   \n",
       "1                 15.000000                      0.0                     0.0   \n",
       "2                 21.333333                      0.0                     0.0   \n",
       "3                 16.000000                      0.0                     0.0   \n",
       "4                 12.800000                      0.0                     0.0   \n",
       "\n",
       "   season_rushing_yds_avg  season_fantasy_points_avg  \n",
       "0                     0.0                   1.900000  \n",
       "1                     0.0                   2.500000  \n",
       "2                     0.0                   4.466667  \n",
       "3                     0.0                   3.350000  \n",
       "4                     0.0                   2.680000  \n",
       "\n",
       "[5 rows x 34 columns]"
      ]
     },
     "execution_count": 63,
     "metadata": {},
     "output_type": "execute_result"
    }
   ],
   "source": [
    "Xte = tesM.select_dtypes(include = 'number').drop(columns=['TOTAL', 'Unnamed: 0'])\n",
    "\n",
    "yte = tesM['TOTAL']\n",
    "#assigning X and y\n",
    "\n",
    "Xte.head(5)"
   ]
  },
  {
   "cell_type": "markdown",
   "metadata": {},
   "source": [
    "- Assigning independent and dependent variables"
   ]
  },
  {
   "cell_type": "code",
   "execution_count": 64,
   "metadata": {},
   "outputs": [],
   "source": [
    "X_trainTE, X_testTE, y_trainTE, y_testTE = train_test_split(Xte, yte, test_size= .80, random_state = 14)"
   ]
  },
  {
   "cell_type": "markdown",
   "metadata": {},
   "source": [
    "- Splitting up the data and allocating 80% of it to training the model"
   ]
  },
  {
   "cell_type": "markdown",
   "metadata": {},
   "source": [
    "***1st Iteration (not using hyperparameter tuning and grid search cross validation)***"
   ]
  },
  {
   "cell_type": "code",
   "execution_count": 65,
   "metadata": {},
   "outputs": [
    {
     "name": "stdout",
     "output_type": "stream",
     "text": [
      "Mean Squared Error: 1.4868797397117024\n",
      "R-squared: 0.9506697323171321\n"
     ]
    }
   ],
   "source": [
    "model = GradientBoostingRegressor(n_estimators=100, learning_rate=0.1, max_depth=3, random_state=42)\n",
    "#initializing the gradient boosting regressor\n",
    "\n",
    "model.fit(X_trainTE, y_trainTE)\n",
    "#fitting the model to the training data\n",
    "\n",
    "y_predTE = model.predict(X_testTE)\n",
    "#getting prediction on the test set\n",
    "\n",
    "mse = mean_squared_error(y_testTE, y_predTE)\n",
    "r2 = r2_score(y_testTE, y_predTE)\n",
    "print(f\"Mean Squared Error: {mse}\")\n",
    "print(f\"R-squared: {r2}\")\n",
    "#getting prediction metrics on the test set"
   ]
  },
  {
   "cell_type": "markdown",
   "metadata": {},
   "source": [
    "- Fitting/testing the model manually (without hyperparameter tuning or grid search cross validation)\n",
    "- Parameters\n",
    "    - Number of estimators: 100\n",
    "    - Learning rate: 0.1\n",
    "    - Max Depth: 3\n",
    "- R-Squared\n",
    "    - Solid value .951, meaning ~95% of the variance in the data is explained by the model\n",
    "    - While a high percentage of the variance is explained by the model, this could potentially indicate overfitting\n",
    "- Mean Absolute Error\n",
    "    - On average, the models predictions are off by ~1.49 points"
   ]
  },
  {
   "cell_type": "markdown",
   "metadata": {},
   "source": [
    "***2nd Iteration (using hyperparameter tuning and grid search cross validation)***"
   ]
  },
  {
   "cell_type": "code",
   "execution_count": 66,
   "metadata": {},
   "outputs": [
    {
     "name": "stdout",
     "output_type": "stream",
     "text": [
      "Best parameters: {'imputer__strategy': 'constant', 'model__learning_rate': 0.1, 'model__max_depth': 5, 'model__min_samples_leaf': 1, 'model__min_samples_split': 10, 'model__n_estimators': 500, 'model__subsample': 0.8}\n",
      "R-squared: 0.9465175833049173\n",
      "Mean Absolute Error (MAE): 0.5997776885067116\n"
     ]
    }
   ],
   "source": [
    "grid_search = GridSearchCV(pipe, paramGrid, cv=5, scoring='neg_mean_squared_error')\n",
    "#performing grid search using 5 fold cross validation\n",
    "\n",
    "grid_search.fit(X_trainTE, y_trainTE)\n",
    "#fitting grid search\n",
    "\n",
    "print(\"Best parameters:\", grid_search.best_params_)\n",
    "teGBR = grid_search.best_estimator_\n",
    "#setting best estimator to 'wrGBR'\n",
    "\n",
    "y_predTE = teGBR.predict(X_testTE)\n",
    "r2 = r2_score(y_testTE, y_predTE)\n",
    "print(\"R-squared:\", r2)\n",
    "mae = mean_absolute_error(y_testTE, y_predTE)\n",
    "print(\"Mean Absolute Error (MAE):\", mae)\n",
    "#printing best parameters, r-squared, and mean absolute error"
   ]
  },
  {
   "cell_type": "markdown",
   "metadata": {},
   "source": [
    "- Using 5-fold grid search cross validation in order to identify the best combination of hyperparameters for the model\n",
    "- Best parameters: \n",
    "- R-squared\n",
    "    - Essentially the same value received prior to using grid search cross validation\n",
    "    - The r-squared value is .947, meaning ~94% of the variance in the data is explained by the model\n",
    "    - This value is high enough that it indicates the model has a good understanding of the variance within the data, and does not indicate overfitting\n",
    "        - Performing the grid search cross validition has mitigated the issue of potential overfitting\n",
    "- Mean squared error\n",
    "    - Lower MAE in comparison to the previous iteration\n",
    "        - Decrease of ~0.4 (0.95/0.59)\n",
    "    - On average, the models predictions deviate from the actual values by ~0.59 points\n",
    "    - This value isnt great, due to the fact that this is fairly unrealistic due to the variability of players performances"
   ]
  },
  {
   "cell_type": "markdown",
   "metadata": {},
   "source": [
    "**Testing for Overfitting**\n",
    "- "
   ]
  },
  {
   "cell_type": "markdown",
   "metadata": {},
   "source": [
    "Testing models to determine whether or not their training values are better than testing values, indicating overfitting."
   ]
  },
  {
   "cell_type": "markdown",
   "metadata": {},
   "source": [
    "**Quarterbacks**"
   ]
  },
  {
   "cell_type": "code",
   "execution_count": 74,
   "metadata": {},
   "outputs": [
    {
     "name": "stdout",
     "output_type": "stream",
     "text": [
      "Training MAE (Quarterbacks): 0.7934786820656909\n",
      "Test MAE (Quarterbacks): 1.819497914233167\n",
      "Potential Overfitting. Training MAE: 0.7934786820656909, Test MAE: 1.819497914233167\n"
     ]
    }
   ],
   "source": [
    "y_train_pred = qbGBR.predict(X_trainQB) \n",
    "train_mae = mean_absolute_error(y_trainQB, y_train_pred)\n",
    "print(\"Training MAE (Quarterbacks):\", train_mae)\n",
    "#Calculating Training Set MAE\n",
    "\n",
    "y_test_pred = qbGBR.predict(X_testQB)\n",
    "test_mae = mean_absolute_error(y_testQB, y_test_pred)\n",
    "print(\"Test MAE (Quarterbacks):\", test_mae)\n",
    "#Calculating Test Set MAE\n",
    "\n",
    "if train_mae < test_mae:\n",
    "    print(f\"Potential Overfitting. Training MAE: {train_mae}, Test MAE: {test_mae}\")\n",
    "else:\n",
    "    print(\"Model appears to generalize well.\")"
   ]
  },
  {
   "cell_type": "markdown",
   "metadata": {},
   "source": [
    "**Running Backs**"
   ]
  },
  {
   "cell_type": "code",
   "execution_count": 75,
   "metadata": {},
   "outputs": [
    {
     "name": "stdout",
     "output_type": "stream",
     "text": [
      "Training MAE (Running Backs): 0.0014423242049603\n",
      "Test MAE (Running Backs): 0.9595100507967558\n",
      "Potential Overfitting. Training MAE: 0.0014423242049603, Test MAE: 0.9595100507967558\n"
     ]
    }
   ],
   "source": [
    "y_train_pred = rbGBR.predict(X_trainRB) \n",
    "train_mae = mean_absolute_error(y_trainRB, y_train_pred)\n",
    "print(\"Training MAE (Running Backs):\", train_mae)\n",
    "#Calculating Training Set MAE\n",
    "\n",
    "y_test_pred = rbGBR.predict(X_testRB)\n",
    "test_mae = mean_absolute_error(y_testRB, y_test_pred)\n",
    "print(\"Test MAE (Running Backs):\", test_mae)\n",
    "#Calculating Test Set MAE\n",
    "\n",
    "if train_mae < test_mae:\n",
    "    print(f\"Potential Overfitting. Training MAE: {train_mae}, Test MAE: {test_mae}\")\n",
    "else:\n",
    "    print(\"Model appears to generalize well.\")"
   ]
  },
  {
   "cell_type": "markdown",
   "metadata": {},
   "source": [
    "**Wide Receivers**"
   ]
  },
  {
   "cell_type": "code",
   "execution_count": 71,
   "metadata": {},
   "outputs": [
    {
     "name": "stdout",
     "output_type": "stream",
     "text": [
      "Training MAE (Wide Receivers): 0.06713637908271224\n",
      "Test MAE (Wide Receivers): 0.6255660445604516\n",
      "Potential Overfitting. Training MAE: 0.06713637908271224, Test MAE: 0.6255660445604516\n"
     ]
    }
   ],
   "source": [
    "y_train_pred = wrGBR.predict(X_trainWR) \n",
    "train_mae = mean_absolute_error(y_trainWR, y_train_pred)\n",
    "print(\"Training MAE (Wide Receivers):\", train_mae)\n",
    "#Calculating Training Set MAE\n",
    "\n",
    "y_test_pred = wrGBR.predict(X_testWR)\n",
    "test_mae = mean_absolute_error(y_testWR, y_test_pred)\n",
    "print(\"Test MAE (Wide Receivers):\", test_mae)\n",
    "#Calculating Test Set MAE\n",
    "\n",
    "if train_mae < test_mae:\n",
    "    print(f\"Potential Overfitting. Training MAE: {train_mae}, Test MAE: {test_mae}\")\n",
    "else:\n",
    "    print(\"Model appears to generalize well.\")\n"
   ]
  },
  {
   "cell_type": "markdown",
   "metadata": {},
   "source": [
    "**Tight Ends**"
   ]
  },
  {
   "cell_type": "code",
   "execution_count": 73,
   "metadata": {},
   "outputs": [
    {
     "name": "stdout",
     "output_type": "stream",
     "text": [
      "Training MAE (Tight Ends): 0.0003543353333677896\n",
      "Test MAE (Tight Ends): 0.5997776885067116\n",
      "Potential Overfitting. Training MAE: 0.0003543353333677896, Test MAE: 0.5997776885067116\n"
     ]
    }
   ],
   "source": [
    "y_train_pred = teGBR.predict(X_trainTE) \n",
    "train_mae = mean_absolute_error(y_trainTE, y_train_pred)\n",
    "print(\"Training MAE (Tight Ends):\", train_mae)\n",
    "#Calculating Training Set MAE\n",
    "\n",
    "y_test_pred = teGBR.predict(X_testTE)\n",
    "test_mae = mean_absolute_error(y_testTE, y_test_pred)\n",
    "print(\"Test MAE (Tight Ends):\", test_mae)\n",
    "#Calculating Test Set MAE\n",
    "\n",
    "if train_mae < test_mae:\n",
    "    print(f\"Potential Overfitting. Training MAE: {train_mae}, Test MAE: {test_mae}\")\n",
    "else:\n",
    "    print(\"Model appears to generalize well.\")"
   ]
  },
  {
   "cell_type": "markdown",
   "metadata": {},
   "source": [
    "There is significant overfitting occurring in each model. This suggests that the model has essentially \"memorized\" the patterns in the training data, including noise or irrelevant details, rather than learning generalizable insights about the underlying structure of the data.\n",
    "\n",
    "A test MAE of ~0.6, for example, means the model is consistently predicting fantasy points within a margin of less than one point. Given the unpredictable nature of fantasy performance, even for top-tier players, this level of accuracy is extremely unlikely without some form of overfitting.\n",
    "\n",
    "The presence of significant overfitting, even after applying robust techniques like 5-fold grid search cross-validation and hyperparameter tuning, indicates that there may be some sort of underlying issue, like some form of data-leakage."
   ]
  },
  {
   "cell_type": "markdown",
   "metadata": {},
   "source": [
    "**Remodeling without Data-Leakage**\n",
    "- "
   ]
  },
  {
   "cell_type": "markdown",
   "metadata": {},
   "source": [
    "It seems there may be data-leakage occuring with could be leading to the overfitting that is occuring in each model. Features such as 'TOTAL', 'Unnamed: 0', 'total_5_game_avg', 'season_total_avg', and 'season_fantasy_points_avg', could be giving the model too much information and allowing it to 'cheat', essentially. This would explain the extremely low, and unrealistic, mean absolute error values. The subsequent models will be the exact same as the previous manual iterations, except the aforementioned features will be removed from the list of independent variables."
   ]
  },
  {
   "cell_type": "markdown",
   "metadata": {},
   "source": [
    "**Quarterback Gradient Boosting Model (trying to avoid data leakage)**"
   ]
  },
  {
   "cell_type": "code",
   "execution_count": 86,
   "metadata": {},
   "outputs": [
    {
     "name": "stdout",
     "output_type": "stream",
     "text": [
      "Mean Absolute Error: 1.804761476824994\n",
      "R-squared: 0.9270652215266868\n"
     ]
    }
   ],
   "source": [
    "Xqb = qbsM.select_dtypes(include = 'number').drop(columns=['TOTAL', 'Unnamed: 0', 'total_5_game_avg', 'season_total_avg', 'season_fantasy_points_avg', 'season_total', 'season_passing_yds', 'season_receiving_rec', 'season_receiving_yds', 'season_receiving_td', 'season_rushing_yds', 'season_rushing_td', 'season_total_avg', 'season_passing_yds_avg', 'season_passing_td_avg', 'season_receiving_rec_avg', 'season_receiving_td_avg', 'season_rushing_car_avg', 'season_rushing_yds_avg', 'season_fantasy_points_avg'])\n",
    "\n",
    "yqb = qbsM['TOTAL']\n",
    "#assigning X and y\n",
    "\n",
    "X_trainQB, X_testQB, y_trainQB, y_testQB = train_test_split(Xqb, yqb, test_size= .80, random_state = 14)\n",
    "\n",
    "model = GradientBoostingRegressor(n_estimators=100, learning_rate=0.1, max_depth=3, random_state=42)\n",
    "#initializing the gradient boosting regressor\n",
    "\n",
    "model.fit(X_trainQB, y_trainQB)\n",
    "#fitting the model to the training data\n",
    "\n",
    "y_predQB = model.predict(X_testQB)\n",
    "#getting prediction on the test set\n",
    "\n",
    "mae = mean_absolute_error(y_testQB, y_predQB)\n",
    "r2 = r2_score(y_testQB, y_predQB)\n",
    "print(f\"Mean Absolute Error: {mae}\")\n",
    "print(f\"R-squared: {r2}\")\n",
    "#getting prediction metrics on the test set"
   ]
  },
  {
   "cell_type": "markdown",
   "metadata": {},
   "source": [
    "- Fitting/testing the model manually, while removing features that could be leading to data-leakage\n",
    "- R-Squared\n",
    "    - Solid value of .92, meaning ~92% of the variance in the data is explained by the model\n",
    "    - While a high percentage of the variance is explained by the model, this is not high enough to indicate overfitting or data leakage\n",
    "- Mean Absolute Error\n",
    "    - On average, the models predictions are off by ~1.8 points\n",
    "    - This is a realistic value, similar to the original mean absolute error of 1.8"
   ]
  },
  {
   "cell_type": "markdown",
   "metadata": {},
   "source": [
    "**Running Back Gradient Boosting Model (trying to avoid data leakage)**"
   ]
  },
  {
   "cell_type": "code",
   "execution_count": 83,
   "metadata": {},
   "outputs": [
    {
     "name": "stdout",
     "output_type": "stream",
     "text": [
      "Mean Absolute Error: 0.7377080004288752\n",
      "R-squared: 0.9607680205152382\n"
     ]
    }
   ],
   "source": [
    "Xrb = rbsM.select_dtypes(include = 'number').drop(columns=['TOTAL', 'Unnamed: 0', 'total_5_game_avg', 'season_total_avg', 'season_fantasy_points_avg', 'season_total', 'season_passing_yds', 'season_receiving_rec', 'season_receiving_yds', 'season_receiving_td', 'season_rushing_yds', 'season_rushing_td', 'season_total_avg', 'season_passing_yds_avg', 'season_passing_td_avg', 'season_receiving_rec_avg', 'season_receiving_td_avg', 'season_rushing_car_avg', 'season_rushing_yds_avg', 'season_fantasy_points_avg'])\n",
    "\n",
    "yrb = rbsM['TOTAL']\n",
    "#assigning X and y\n",
    "\n",
    "X_trainRB, X_testRB, y_trainRB, y_testRB = train_test_split(Xrb, yrb, test_size= .80, random_state = 14)\n",
    "\n",
    "model = GradientBoostingRegressor(n_estimators=100, learning_rate=0.1, max_depth=3, random_state=42)\n",
    "#initializing the gradient boosting regressor\n",
    "\n",
    "model.fit(X_trainRB, y_trainRB)\n",
    "#fitting the model to the training data\n",
    "\n",
    "y_predRB = model.predict(X_testRB)\n",
    "#getting prediction on the test set\n",
    "\n",
    "mae = mean_absolute_error(y_testRB, y_predRB)\n",
    "r2 = r2_score(y_testRB, y_predRB)\n",
    "print(f\"Mean Absolute Error: {mae}\")\n",
    "print(f\"R-squared: {r2}\")\n",
    "#getting prediction metrics on the test set"
   ]
  },
  {
   "cell_type": "markdown",
   "metadata": {},
   "source": [
    "- Fitting/testing the model manually, while removing features that could be leading to data-leakage\n",
    "- R-Squared\n",
    "    - High value of .961, meaning ~96% of the variance in the data is explained by the model\n",
    "    - A high percentage of the variance is explained by the model, this is still indicates overfitting\n",
    "- Mean Absolute Error\n",
    "    - On average, the models predictions are off by ~0.7 points\n",
    "    - This is a very unrealistic value, and still indicates significant overfitting"
   ]
  },
  {
   "cell_type": "markdown",
   "metadata": {},
   "source": [
    "**Wide Receiver Gradient Boosting Model (trying to avoid data leakage)**"
   ]
  },
  {
   "cell_type": "code",
   "execution_count": 84,
   "metadata": {},
   "outputs": [
    {
     "name": "stdout",
     "output_type": "stream",
     "text": [
      "Mean Absolute Error: 0.6609763102116485\n",
      "R-squared: 0.969035015518867\n"
     ]
    }
   ],
   "source": [
    "Xwr = wrsM.select_dtypes(include = 'number').drop(columns=['TOTAL', 'Unnamed: 0', 'total_5_game_avg', 'season_total_avg', 'season_fantasy_points_avg', 'season_total', 'season_passing_yds', 'season_receiving_rec', 'season_receiving_yds', 'season_receiving_td', 'season_rushing_yds', 'season_rushing_td', 'season_total_avg', 'season_passing_yds_avg', 'season_passing_td_avg', 'season_receiving_rec_avg', 'season_receiving_td_avg', 'season_rushing_car_avg', 'season_rushing_yds_avg', 'season_fantasy_points_avg'])\n",
    "\n",
    "ywr = wrsM['TOTAL']\n",
    "#assigning X and y\n",
    "\n",
    "X_trainWR, X_testWR, y_trainWR, y_testWR = train_test_split(Xwr, ywr, test_size= .80, random_state = 14)\n",
    "\n",
    "model = GradientBoostingRegressor(n_estimators=100, learning_rate=0.1, max_depth=3, random_state=42)\n",
    "#initializing the gradient boosting regressor\n",
    "\n",
    "model.fit(X_trainWR, y_trainWR)\n",
    "#fitting the model to the training data\n",
    "\n",
    "y_predWR = model.predict(X_testWR)\n",
    "#getting prediction on the test set\n",
    "\n",
    "mae = mean_absolute_error(y_testWR, y_predWR)\n",
    "r2 = r2_score(y_testWR, y_predWR)\n",
    "print(f\"Mean Absolute Error: {mae}\")\n",
    "print(f\"R-squared: {r2}\")\n",
    "#getting prediction metrics on the test set"
   ]
  },
  {
   "cell_type": "markdown",
   "metadata": {},
   "source": [
    "- Fitting/testing the model manually, while removing features that could be leading to data-leakage\n",
    "- R-Squared\n",
    "    - High value of .967, meaning ~96% of the variance in the data is explained by the model\n",
    "    - A high percentage of the variance is explained by the model, this is still indicates overfitting\n",
    "- Mean Absolute Error\n",
    "    - On average, the models predictions are off by ~0.6 points\n",
    "    - This is a very unrealistic value, and still indicates significant overfitting"
   ]
  },
  {
   "cell_type": "markdown",
   "metadata": {},
   "source": [
    "**Tight End Gradient Boosting Model (trying to avoid data leakage)**"
   ]
  },
  {
   "cell_type": "code",
   "execution_count": 91,
   "metadata": {},
   "outputs": [
    {
     "name": "stdout",
     "output_type": "stream",
     "text": [
      "Mean Absolute Error: 0.7221431212135927\n",
      "R-squared: 0.9391220374638384\n"
     ]
    }
   ],
   "source": [
    "Xte = tesM.select_dtypes(include = 'number').drop(columns=['TOTAL', 'Unnamed: 0', 'total_5_game_avg', 'season_total_avg', 'season_fantasy_points_avg', 'season_total', 'season_passing_yds', 'season_receiving_rec', 'season_receiving_yds', 'season_receiving_td', 'season_rushing_yds', 'season_rushing_td', 'season_total_avg', 'season_passing_yds_avg', 'season_passing_td_avg', 'season_receiving_rec_avg', 'season_receiving_td_avg', 'season_rushing_car_avg', 'season_rushing_yds_avg', 'season_fantasy_points_avg'])\n",
    "\n",
    "yte = tesM['TOTAL']\n",
    "#assigning X and y\n",
    "\n",
    "X_trainTE, X_testTE, y_trainTE, y_testTE = train_test_split(Xte, yte, test_size= .80, random_state = 14)\n",
    "\n",
    "model = GradientBoostingRegressor(n_estimators=100, learning_rate=0.05, max_depth=2, min_samples_split=10, subsample=0.8, random_state=42)\n",
    "#initializing the gradient boosting regressor\n",
    "\n",
    "model.fit(X_trainTE, y_trainTE)\n",
    "#fitting the model to the training data\n",
    "\n",
    "y_predTE = model.predict(X_testTE)\n",
    "#getting prediction on the test set\n",
    "\n",
    "mae = mean_absolute_error(y_testTE, y_predTE)\n",
    "r2 = r2_score(y_testTE, y_predTE)\n",
    "print(f\"Mean Absolute Error: {mae}\")\n",
    "print(f\"R-squared: {r2}\")\n",
    "#getting prediction metrics on the test set"
   ]
  },
  {
   "cell_type": "markdown",
   "metadata": {},
   "source": [
    "- Fitting/testing the model manually, while removing features that could be leading to data-leakage\n",
    "- Changing parameters to try and mitigate overfitting\n",
    "- R-Squared\n",
    "    - High value of .945, meaning ~95% of the variance in the data is explained by the model\n",
    "    - A high percentage of the variance is explained by the model, this is still indicates overfitting\n",
    "- Mean Absolute Error\n",
    "    - On average, the models predictions are off by ~0.6 points\n",
    "    - This is a very unrealistic value, and still indicates significant overfitting"
   ]
  },
  {
   "cell_type": "markdown",
   "metadata": {},
   "source": [
    "Even after removing features that could potentially lead to data leakage, such as cumulative averages (season_total_avg, season_fantasy_points_avg), the model continues to produce values that are highly unrealistic given the inherent variability in player performance."
   ]
  },
  {
   "cell_type": "markdown",
   "metadata": {},
   "source": [
    "**Advanced Modeling Metric Analysis**\n",
    "- "
   ]
  },
  {
   "cell_type": "code",
   "execution_count": 93,
   "metadata": {},
   "outputs": [
    {
     "data": {
      "image/png": "[encoded data removed]",
      "text/plain": [
       "<Figure size 1000x600 with 1 Axes>"
      ]
     },
     "metadata": {},
     "output_type": "display_data"
    }
   ],
   "source": [
    "evalData = {\n",
    "    'Position': ['Quarterback', 'Running Back', 'Wide Receiver', 'Tight End'],\n",
    "    'R-squared': [0.9242, 0.9253, 0.970084, 0.9465],\n",
    "    'MAE': [1.819, 0.959, 0.6255, 0.599]\n",
    "}\n",
    "#creating dictionary wiht evaluation data\n",
    "\n",
    "evaldf = pd.DataFrame(evalData)\n",
    "#turning it into a dataframe\n",
    "\n",
    "df_melted = evaldf.melt(id_vars='Position', var_name='Metric', value_name='Value')\n",
    "#melting the dataframe to use seaborn\n",
    "\n",
    "plt.figure(figsize=(10, 6))\n",
    "sns.barplot(data=df_melted, x='Position', y='Value', hue='Metric', palette='colorblind')\n",
    "plt.title('Gradient Boosting Performance by Position', fontsize=16)\n",
    "plt.xlabel('Positions', fontsize=12)\n",
    "plt.ylabel('Values', fontsize=12)\n",
    "plt.grid(axis='y', linestyle='--', alpha=0.6)\n",
    "plt.legend(title='Metric', fontsize=10)\n",
    "plt.tight_layout()\n",
    "plt.show()\n",
    "#plotting"
   ]
  },
  {
   "cell_type": "markdown",
   "metadata": {},
   "source": [
    "Quarterbacks:\n",
    "- R-squared (0.9242): This high value indicates the model captures most of the variance in quarterback fantasy points\n",
    "- MAE (1.819): This MAE is a much more realistic value, especially in comparison to the other models\n",
    "\n",
    "Running Backs:\n",
    "- R-squared (0.9253): Good value at a glance, however we know overfitting is occuring\n",
    "- MAE (0.959): Extremely low, and unrealistic MAE\n",
    "\n",
    "Wide Receivers:\n",
    "- R-squared (0.970084): The highest R-squared among positions\n",
    "- MAE (0.6255): Extremely low, and unrealistic MAE\n",
    "    - Along withthe high R-squared, it is clear the model is overfitting, as wide receiver performance can vary significantly depending on game conditions\n",
    "\n",
    "Tight Ends:\n",
    "- R-squared (0.9465): This is another strong value at a glance, however we know overfitting is occuring\n",
    "- MAE (0.599): The lowest MAE among all positions\n",
    "    - This reflects the overfitting occurring, as tight end performance is often highly variable due to game scripts and reliance on touchdowns\n",
    "\n",
    "\n",
    "Observations:\n",
    "\n",
    "The extremely low MAE for wide receivers and tight ends, combined with their high R-squared, indicates overfitting, as these positions tend to have more variability in performance than reflected in the metrics. For quarterbacks, the MAE values align more closely with expectations, as their performance is generally more stable."
   ]
  },
  {
   "cell_type": "markdown",
   "metadata": {},
   "source": [
    "**Advanced Modeling Conclusion**\n",
    "- "
   ]
  },
  {
   "cell_type": "markdown",
   "metadata": {},
   "source": [
    "In this notebook, we explored the use of Gradient Boosting models for predicting fantasy points for tight ends. Despite implementing advanced techniques such as Grid Search Cross-Validation and extensive hyperparameter tuning, the models exhibited significant overfitting. The training MAE was extremely low, suggesting the model had effectively memorized the training data, while the test MAE, although higher, was still unrealistically low given the inherent variability in player performance.\n",
    "\n",
    "This overfitting indicates a mismatch between the complexity of the Gradient Boosting model and the nature of the dataset. NFL player performance is highly variable and influenced by external factors (e.g., game script, injuries, and touchdowns) that are difficult to model this accurately. As a result, the Gradient Boosting model's flexibility and capacity to capture intricate patterns likely lead to it overfitting the training data rather than generalizing well to unseen data.\n",
    "\n",
    "Given this behavior, it appears that the simpler baseline model (Ridge Regression) may be more suitable for this problem. Ridge regression models, with their inherent regularization and reduced complexity, are less prone to overfitting and often provide more realistic and generalizable predictions in situations where data variability and noise are significant factors.\n",
    "\n",
    "Moving forward, further exploration of baseline models and simpler approaches should be prioritized, as they are likely to yield better results for this dataset. Additionally, further efforts could be directed toward improving feature engineering, carefully handling potential data leakage, and revisiting the model evaluation strategy to ensure reliable and actionable insights."
   ]
  }
 ],
 "metadata": {
  "kernelspec": {
   "display_name": "ml_env",
   "language": "python",
   "name": "python3"
  },
  "language_info": {
   "codemirror_mode": {
    "name": "ipython",
    "version": 3
   },
   "file_extension": ".py",
   "mimetype": "text/x-python",
   "name": "python",
   "nbconvert_exporter": "python",
   "pygments_lexer": "ipython3",
   "version": "3.11.5"
  }
 },
 "nbformat": 4,
 "nbformat_minor": 2
}
